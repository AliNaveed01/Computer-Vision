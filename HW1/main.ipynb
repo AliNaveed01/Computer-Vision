{
  "cells": [
    {
      "cell_type": "markdown",
      "metadata": {
        "id": "MqzoeFUK06RY"
      },
      "source": [
        "## Loading the Image"
      ]
    },
    {
      "cell_type": "code",
      "execution_count": 1,
      "metadata": {
        "id": "yOdDCyF9xMwB"
      },
      "outputs": [],
      "source": [
        "import cv2\n",
        "import numpy as np\n",
        "\n",
        "img = cv2.imread('ABC.jpg', 0)\n",
        "\n",
        "# display the image in the output\n",
        "cv2.imshow('image', img)"
      ]
    },
    {
      "cell_type": "code",
      "execution_count": 4,
      "metadata": {},
      "outputs": [
        {
          "data": {
            "text/plain": [
              "True"
            ]
          },
          "execution_count": 4,
          "metadata": {},
          "output_type": "execute_result"
        }
      ],
      "source": [
        "# Now we will create the image negative \n",
        "img_negative = 255 - img\n",
        "img_negative = cv2.bitwise_not(img)\n",
        "\n",
        "# display the negative image in the output\n",
        "cv2.imwrite('image_negative.jpg', img_negative)"
      ]
    },
    {
      "cell_type": "markdown",
      "metadata": {
        "id": "OhkbnzGX1Ek2"
      },
      "source": [
        "## Image Scaling"
      ]
    },
    {
      "cell_type": "code",
      "execution_count": 3,
      "metadata": {},
      "outputs": [
        {
          "data": {
            "text/plain": [
              "True"
            ]
          },
          "execution_count": 3,
          "metadata": {},
          "output_type": "execute_result"
        }
      ],
      "source": [
        "# now we will scale the image\n",
        "img_scaled = cv2.resize(img, (0,0), fx=0.5, fy=0.5)\n",
        "\n",
        "# save the image in the output\n",
        "cv2.imwrite('scaled_image.jpg', img_scaled)"
      ]
    },
    {
      "cell_type": "code",
      "execution_count": 5,
      "metadata": {},
      "outputs": [
        {
          "data": {
            "text/plain": [
              "True"
            ]
          },
          "execution_count": 5,
          "metadata": {},
          "output_type": "execute_result"
        }
      ],
      "source": [
        "# now for noise removal , we will use image averaging\n",
        "img_avg = cv2.blur(img, (5,5))\n",
        "\n",
        "# save the image in the output\n",
        "cv2.imwrite('average_image.jpg', img_avg)"
      ]
    },
    {
      "cell_type": "code",
      "execution_count": 6,
      "metadata": {
        "id": "mv1jpc3p1e1i"
      },
      "outputs": [
        {
          "data": {
            "text/plain": [
              "True"
            ]
          },
          "execution_count": 6,
          "metadata": {},
          "output_type": "execute_result"
        }
      ],
      "source": [
        "# now we will do image subtraction\n",
        "img_sub = cv2.subtract(img, img_avg)\n",
        "\n",
        "# save the image in the output\n",
        "cv2.imwrite('subtracted_image.jpg', img_sub)"
      ]
    }
  ],
  "metadata": {
    "colab": {
      "provenance": []
    },
    "kernelspec": {
      "display_name": "Python 3",
      "name": "python3"
    },
    "language_info": {
      "codemirror_mode": {
        "name": "ipython",
        "version": 3
      },
      "file_extension": ".py",
      "mimetype": "text/x-python",
      "name": "python",
      "nbconvert_exporter": "python",
      "pygments_lexer": "ipython3",
      "version": "3.9.7"
    }
  },
  "nbformat": 4,
  "nbformat_minor": 0
}
